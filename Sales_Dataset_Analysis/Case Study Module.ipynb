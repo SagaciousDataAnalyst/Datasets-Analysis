{
 "cells": [
  {
   "cell_type": "markdown",
   "id": "0208d8d8",
   "metadata": {},
   "source": [
    "> ## Importing Libraries"
   ]
  },
  {
   "cell_type": "code",
   "execution_count": 7,
   "id": "90f061a8",
   "metadata": {},
   "outputs": [],
   "source": [
    "import pandas as pd # Data Loading and Manipulation\n",
    "import seaborn as sns # Interactive Visualization\n",
    "import matplotlib.pyplot as plt # Base visualization library\n",
    "import numpy as np # for faster data calculations\n",
    "\n",
    "import warnings\n",
    "warnings.filterwarnings(\"ignore\")# here we are ignoring the warnings"
   ]
  },
  {
   "cell_type": "markdown",
   "id": "4f687481",
   "metadata": {},
   "source": [
    "> ### Reading Excel file"
   ]
  },
  {
   "cell_type": "code",
   "execution_count": 8,
   "id": "1b56290e",
   "metadata": {},
   "outputs": [
    {
     "data": {
      "text/html": [
       "<div>\n",
       "<style scoped>\n",
       "    .dataframe tbody tr th:only-of-type {\n",
       "        vertical-align: middle;\n",
       "    }\n",
       "\n",
       "    .dataframe tbody tr th {\n",
       "        vertical-align: top;\n",
       "    }\n",
       "\n",
       "    .dataframe thead th {\n",
       "        text-align: right;\n",
       "    }\n",
       "</style>\n",
       "<table border=\"1\" class=\"dataframe\">\n",
       "  <thead>\n",
       "    <tr style=\"text-align: right;\">\n",
       "      <th></th>\n",
       "      <th>Month</th>\n",
       "      <th>Customer ID</th>\n",
       "      <th>Age</th>\n",
       "      <th>Gender</th>\n",
       "      <th>Income Group</th>\n",
       "      <th>Family size</th>\n",
       "      <th>Product category</th>\n",
       "      <th>Price</th>\n",
       "      <th>items</th>\n",
       "    </tr>\n",
       "  </thead>\n",
       "  <tbody>\n",
       "    <tr>\n",
       "      <th>0</th>\n",
       "      <td>2019-01-01</td>\n",
       "      <td>83</td>\n",
       "      <td>29</td>\n",
       "      <td>F</td>\n",
       "      <td>2000-2500</td>\n",
       "      <td>6</td>\n",
       "      <td>Household</td>\n",
       "      <td>593</td>\n",
       "      <td>10</td>\n",
       "    </tr>\n",
       "    <tr>\n",
       "      <th>1</th>\n",
       "      <td>2019-01-01</td>\n",
       "      <td>87</td>\n",
       "      <td>33</td>\n",
       "      <td>F</td>\n",
       "      <td>1000-1500</td>\n",
       "      <td>2</td>\n",
       "      <td>Electronics</td>\n",
       "      <td>82</td>\n",
       "      <td>18</td>\n",
       "    </tr>\n",
       "    <tr>\n",
       "      <th>2</th>\n",
       "      <td>2019-01-01</td>\n",
       "      <td>92</td>\n",
       "      <td>30</td>\n",
       "      <td>M</td>\n",
       "      <td>&lt;1000</td>\n",
       "      <td>1</td>\n",
       "      <td>Kitchen</td>\n",
       "      <td>478</td>\n",
       "      <td>14</td>\n",
       "    </tr>\n",
       "    <tr>\n",
       "      <th>3</th>\n",
       "      <td>2019-01-01</td>\n",
       "      <td>27</td>\n",
       "      <td>24</td>\n",
       "      <td>M</td>\n",
       "      <td>1500-2000</td>\n",
       "      <td>5</td>\n",
       "      <td>Beverages</td>\n",
       "      <td>442</td>\n",
       "      <td>1</td>\n",
       "    </tr>\n",
       "    <tr>\n",
       "      <th>4</th>\n",
       "      <td>2019-01-01</td>\n",
       "      <td>93</td>\n",
       "      <td>39</td>\n",
       "      <td>F</td>\n",
       "      <td>1000-1500</td>\n",
       "      <td>10</td>\n",
       "      <td>Appliances</td>\n",
       "      <td>310</td>\n",
       "      <td>9</td>\n",
       "    </tr>\n",
       "    <tr>\n",
       "      <th>...</th>\n",
       "      <td>...</td>\n",
       "      <td>...</td>\n",
       "      <td>...</td>\n",
       "      <td>...</td>\n",
       "      <td>...</td>\n",
       "      <td>...</td>\n",
       "      <td>...</td>\n",
       "      <td>...</td>\n",
       "      <td>...</td>\n",
       "    </tr>\n",
       "    <tr>\n",
       "      <th>637</th>\n",
       "      <td>2019-06-01</td>\n",
       "      <td>86</td>\n",
       "      <td>38</td>\n",
       "      <td>M</td>\n",
       "      <td>&lt;1000</td>\n",
       "      <td>3</td>\n",
       "      <td>Appliances</td>\n",
       "      <td>49</td>\n",
       "      <td>19</td>\n",
       "    </tr>\n",
       "    <tr>\n",
       "      <th>638</th>\n",
       "      <td>2019-06-01</td>\n",
       "      <td>108</td>\n",
       "      <td>26</td>\n",
       "      <td>M</td>\n",
       "      <td>2500-3000</td>\n",
       "      <td>9</td>\n",
       "      <td>Furniture</td>\n",
       "      <td>476</td>\n",
       "      <td>2</td>\n",
       "    </tr>\n",
       "    <tr>\n",
       "      <th>639</th>\n",
       "      <td>2019-06-01</td>\n",
       "      <td>79</td>\n",
       "      <td>37</td>\n",
       "      <td>F</td>\n",
       "      <td>&gt;3000</td>\n",
       "      <td>8</td>\n",
       "      <td>Beverages</td>\n",
       "      <td>396</td>\n",
       "      <td>18</td>\n",
       "    </tr>\n",
       "    <tr>\n",
       "      <th>640</th>\n",
       "      <td>2019-06-01</td>\n",
       "      <td>109</td>\n",
       "      <td>34</td>\n",
       "      <td>F</td>\n",
       "      <td>&gt;3000</td>\n",
       "      <td>3</td>\n",
       "      <td>Appliances</td>\n",
       "      <td>245</td>\n",
       "      <td>24</td>\n",
       "    </tr>\n",
       "    <tr>\n",
       "      <th>641</th>\n",
       "      <td>2019-06-01</td>\n",
       "      <td>95</td>\n",
       "      <td>27</td>\n",
       "      <td>F</td>\n",
       "      <td>2000-2500</td>\n",
       "      <td>2</td>\n",
       "      <td>Furniture</td>\n",
       "      <td>328</td>\n",
       "      <td>14</td>\n",
       "    </tr>\n",
       "  </tbody>\n",
       "</table>\n",
       "<p>642 rows × 9 columns</p>\n",
       "</div>"
      ],
      "text/plain": [
       "         Month  Customer ID  Age Gender Income Group  Family size  \\\n",
       "0   2019-01-01           83   29      F    2000-2500            6   \n",
       "1   2019-01-01           87   33      F    1000-1500            2   \n",
       "2   2019-01-01           92   30      M        <1000            1   \n",
       "3   2019-01-01           27   24      M    1500-2000            5   \n",
       "4   2019-01-01           93   39      F    1000-1500           10   \n",
       "..         ...          ...  ...    ...          ...          ...   \n",
       "637 2019-06-01           86   38      M        <1000            3   \n",
       "638 2019-06-01          108   26      M    2500-3000            9   \n",
       "639 2019-06-01           79   37      F        >3000            8   \n",
       "640 2019-06-01          109   34      F        >3000            3   \n",
       "641 2019-06-01           95   27      F    2000-2500            2   \n",
       "\n",
       "    Product category  Price  items  \n",
       "0          Household    593     10  \n",
       "1        Electronics     82     18  \n",
       "2            Kitchen    478     14  \n",
       "3          Beverages    442      1  \n",
       "4         Appliances    310      9  \n",
       "..               ...    ...    ...  \n",
       "637       Appliances     49     19  \n",
       "638        Furniture    476      2  \n",
       "639        Beverages    396     18  \n",
       "640       Appliances    245     24  \n",
       "641        Furniture    328     14  \n",
       "\n",
       "[642 rows x 9 columns]"
      ]
     },
     "execution_count": 8,
     "metadata": {},
     "output_type": "execute_result"
    }
   ],
   "source": [
    "df = pd.read_excel(\"Ecommerce_sales.xlsx\")\n",
    "df"
   ]
  },
  {
   "cell_type": "markdown",
   "id": "c7e4f470",
   "metadata": {},
   "source": [
    "#### Dataset information"
   ]
  },
  {
   "cell_type": "code",
   "execution_count": 9,
   "id": "ddba4cf6",
   "metadata": {},
   "outputs": [
    {
     "name": "stdout",
     "output_type": "stream",
     "text": [
      "<class 'pandas.core.frame.DataFrame'>\n",
      "RangeIndex: 642 entries, 0 to 641\n",
      "Data columns (total 9 columns):\n",
      " #   Column            Non-Null Count  Dtype         \n",
      "---  ------            --------------  -----         \n",
      " 0   Month             642 non-null    datetime64[ns]\n",
      " 1   Customer ID       642 non-null    int64         \n",
      " 2   Age               642 non-null    int64         \n",
      " 3   Gender            642 non-null    object        \n",
      " 4   Income Group      642 non-null    object        \n",
      " 5   Family size       642 non-null    int64         \n",
      " 6   Product category  642 non-null    object        \n",
      " 7   Price             642 non-null    int64         \n",
      " 8   items             642 non-null    int64         \n",
      "dtypes: datetime64[ns](1), int64(5), object(3)\n",
      "memory usage: 45.3+ KB\n"
     ]
    }
   ],
   "source": [
    "df.info()"
   ]
  },
  {
   "cell_type": "markdown",
   "id": "6f1fedcb",
   "metadata": {},
   "source": [
    "### Required Problem Statements"
   ]
  },
  {
   "cell_type": "markdown",
   "id": "afa55f71",
   "metadata": {},
   "source": [
    "\n",
    "    Q1: Find mean, median and mode of the variable \"Age\"of the customer? Hint: try using descriptive statistics from the data analysis panel\t\t\t\t\t\t\t\t\t\n",
    "    Q2: Which Income group of customers spends the most on purchases? Hint: Use descriptive statistics or pivot tables\t\t\t\t\t\t\t\t\t\n",
    "    Q3: Is there any relatioship between Family size and expenditure? Hint : Use correlation\t\t\t\t\t\t\t\t\t\n",
    "    Q4: Create a month wise sales distribution of Household products (Bar graph).\t\t\t\t\t\t\t\t\t\n",
    "    Q5:What is the average price of an item in Electronics?\t\t\t\t\t\t\t\t\t\n",
    "    Q6: Find difference between money spent per purchase by Male and Female?\t\t\t\t\t\t\t\t\t\n"
   ]
  },
  {
   "cell_type": "markdown",
   "id": "4a2ab3eb",
   "metadata": {},
   "source": [
    "### Q1: Find mean, median and mode of the variable \"Age\"of the customer?\n",
    "\t\t\t\t\t\t"
   ]
  },
  {
   "cell_type": "code",
   "execution_count": 10,
   "id": "72eb188e",
   "metadata": {},
   "outputs": [
    {
     "name": "stdout",
     "output_type": "stream",
     "text": [
      "Mean of the Age variable is :  37.39563862928349\n",
      "Median of the Age variable is :  35.0\n",
      "Mode of the Age variable is :  0    49\n",
      "Name: Age, dtype: int64\n"
     ]
    }
   ],
   "source": [
    "print(\"Mean of the Age variable is : \",df[\"Age\"].mean())\n",
    "print(\"Median of the Age variable is : \",df[\"Age\"].median())\n",
    "print(\"Mode of the Age variable is : \",df[\"Age\"].mode())"
   ]
  },
  {
   "cell_type": "markdown",
   "id": "2166e2aa",
   "metadata": {},
   "source": [
    "### Pictorial representation of the Mean, Median and Mode"
   ]
  },
  {
   "cell_type": "code",
   "execution_count": 31,
   "id": "49b0a790",
   "metadata": {},
   "outputs": [
    {
     "data": {
      "text/plain": [
       "<matplotlib.legend.Legend at 0x264239c47c0>"
      ]
     },
     "execution_count": 31,
     "metadata": {},
     "output_type": "execute_result"
    },
    {
     "data": {
      "image/png": "[encoded data removed]",
      "text/plain": [
       "<Figure size 1080x720 with 1 Axes>"
      ]
     },
     "metadata": {
      "needs_background": "light"
     },
     "output_type": "display_data"
    }
   ],
   "source": [
    "fig, ax = plt.subplots(figsize = (15,10))\n",
    "sns.distplot(df[\"Age\"], hist = True,color = \"salmon\", rug = True, rug_kws={\"color\": \"black\"},\n",
    "            kde_kws={\"color\": \"k\", \"lw\": 2, \"label\": \"Smooth Distribution Curve\"})\n",
    "plt.vlines(df[\"Age\"].mean(), ymin = 0, ymax = 0.06, linestyles ='dashed', label = \"Mean\", color = \"teal\")\n",
    "plt.vlines(df[\"Age\"].median(), ymin = 0, ymax = 0.06, linestyles ='dashed', label = \"Median\", color = \"indigo\")\n",
    "plt.vlines(df[\"Age\"].mode(), ymin = 0, ymax = 0.06, linestyles ='dashed', label = \"Mode\", color = \"darkolivegreen\")\n",
    "ax.set_xticks(range(20,70, 2))\n",
    "plt.legend()"
   ]
  },
  {
   "cell_type": "markdown",
   "id": "d5d43c53",
   "metadata": {},
   "source": [
    "The mean,median,mode for the 'Age' variable are 37.39, 35.0 and,49 respectively"
   ]
  },
  {
   "cell_type": "markdown",
   "id": "d7f0ee8a",
   "metadata": {},
   "source": [
    "### Q2: Which Income group of customers spends the most on purchases? \n",
    "##### Hint: Use descriptive statistics or pivot tables\t\t\t\t\t\t\t\t\t"
   ]
  },
  {
   "cell_type": "code",
   "execution_count": 12,
   "id": "092c6102",
   "metadata": {
    "scrolled": false
   },
   "outputs": [
    {
     "data": {
      "text/plain": [
       "Income Group\n",
       ">3000        377.903226\n",
       "1000-1500    375.018692\n",
       "2500-3000    363.563636\n",
       "2000-2500    361.445455\n",
       "1500-2000    357.565217\n",
       "<1000        353.672897\n",
       "Name: Price, dtype: float64"
      ]
     },
     "execution_count": 12,
     "metadata": {},
     "output_type": "execute_result"
    }
   ],
   "source": [
    "df.groupby(['Income Group'])['Price'].mean().sort_values(ascending = False)"
   ]
  },
  {
   "cell_type": "markdown",
   "id": "b27abbc7",
   "metadata": {},
   "source": [
    "From above information >3000$ Income Group of customers spends the most on purchases. In average they are spending approximatly 378$ which is higher than the other income groups."
   ]
  },
  {
   "cell_type": "markdown",
   "id": "a6efb5dc",
   "metadata": {},
   "source": [
    "### Q3. Is there any relatioship between Family size and expenditure?"
   ]
  },
  {
   "cell_type": "markdown",
   "id": "02b7734f",
   "metadata": {},
   "source": [
    "We can answer this question by drawing the scatter plot between Family size V/S Expenditure(Price)."
   ]
  },
  {
   "cell_type": "code",
   "execution_count": 29,
   "id": "b5a85b55",
   "metadata": {
    "scrolled": false
   },
   "outputs": [
    {
     "data": {
      "text/plain": [
       "Text(0.5, 1.0, 'Correlation between Family size and Expenditure')"
      ]
     },
     "execution_count": 29,
     "metadata": {},
     "output_type": "execute_result"
    },
    {
     "data": {
      "image/png": "[encoded data removed]",
      "text/plain": [
       "<Figure size 1080x720 with 1 Axes>"
      ]
     },
     "metadata": {
      "needs_background": "light"
     },
     "output_type": "display_data"
    }
   ],
   "source": [
    "fig, ax = plt.subplots(figsize = (15,10))\n",
    "sns.regplot(df[\"Family size\"],df[\"Price\"],color=\"teal\")\n",
    "plt.title(\"Correlation between Family size and Expenditure\",pad=20,fontsize=20)\n"
   ]
  },
  {
   "cell_type": "markdown",
   "id": "5106a45f",
   "metadata": {},
   "source": [
    "From the above corralation graph, we can say that,there is no any such relationship between Family size and Expenditure."
   ]
  },
  {
   "cell_type": "markdown",
   "id": "6ef431cf",
   "metadata": {},
   "source": [
    "### Q4. Create a month wise sales distribution of Household products (Bar graph)?"
   ]
  },
  {
   "cell_type": "markdown",
   "id": "cd6987a6",
   "metadata": {},
   "source": [
    "To find the month wise sales distribution of Household products,first we have to extract month names from the date column(i.e,\"Month\" column)"
   ]
  },
  {
   "cell_type": "code",
   "execution_count": 14,
   "id": "1248b528",
   "metadata": {
    "scrolled": false
   },
   "outputs": [
    {
     "data": {
      "text/html": [
       "<div>\n",
       "<style scoped>\n",
       "    .dataframe tbody tr th:only-of-type {\n",
       "        vertical-align: middle;\n",
       "    }\n",
       "\n",
       "    .dataframe tbody tr th {\n",
       "        vertical-align: top;\n",
       "    }\n",
       "\n",
       "    .dataframe thead th {\n",
       "        text-align: right;\n",
       "    }\n",
       "</style>\n",
       "<table border=\"1\" class=\"dataframe\">\n",
       "  <thead>\n",
       "    <tr style=\"text-align: right;\">\n",
       "      <th></th>\n",
       "      <th>Month</th>\n",
       "      <th>Customer ID</th>\n",
       "      <th>Age</th>\n",
       "      <th>Gender</th>\n",
       "      <th>Income Group</th>\n",
       "      <th>Family size</th>\n",
       "      <th>Product category</th>\n",
       "      <th>Price</th>\n",
       "      <th>items</th>\n",
       "    </tr>\n",
       "  </thead>\n",
       "  <tbody>\n",
       "    <tr>\n",
       "      <th>0</th>\n",
       "      <td>January</td>\n",
       "      <td>83</td>\n",
       "      <td>29</td>\n",
       "      <td>F</td>\n",
       "      <td>2000-2500</td>\n",
       "      <td>6</td>\n",
       "      <td>Household</td>\n",
       "      <td>593</td>\n",
       "      <td>10</td>\n",
       "    </tr>\n",
       "    <tr>\n",
       "      <th>1</th>\n",
       "      <td>January</td>\n",
       "      <td>87</td>\n",
       "      <td>33</td>\n",
       "      <td>F</td>\n",
       "      <td>1000-1500</td>\n",
       "      <td>2</td>\n",
       "      <td>Electronics</td>\n",
       "      <td>82</td>\n",
       "      <td>18</td>\n",
       "    </tr>\n",
       "    <tr>\n",
       "      <th>2</th>\n",
       "      <td>January</td>\n",
       "      <td>92</td>\n",
       "      <td>30</td>\n",
       "      <td>M</td>\n",
       "      <td>&lt;1000</td>\n",
       "      <td>1</td>\n",
       "      <td>Kitchen</td>\n",
       "      <td>478</td>\n",
       "      <td>14</td>\n",
       "    </tr>\n",
       "    <tr>\n",
       "      <th>3</th>\n",
       "      <td>January</td>\n",
       "      <td>27</td>\n",
       "      <td>24</td>\n",
       "      <td>M</td>\n",
       "      <td>1500-2000</td>\n",
       "      <td>5</td>\n",
       "      <td>Beverages</td>\n",
       "      <td>442</td>\n",
       "      <td>1</td>\n",
       "    </tr>\n",
       "    <tr>\n",
       "      <th>4</th>\n",
       "      <td>January</td>\n",
       "      <td>93</td>\n",
       "      <td>39</td>\n",
       "      <td>F</td>\n",
       "      <td>1000-1500</td>\n",
       "      <td>10</td>\n",
       "      <td>Appliances</td>\n",
       "      <td>310</td>\n",
       "      <td>9</td>\n",
       "    </tr>\n",
       "    <tr>\n",
       "      <th>...</th>\n",
       "      <td>...</td>\n",
       "      <td>...</td>\n",
       "      <td>...</td>\n",
       "      <td>...</td>\n",
       "      <td>...</td>\n",
       "      <td>...</td>\n",
       "      <td>...</td>\n",
       "      <td>...</td>\n",
       "      <td>...</td>\n",
       "    </tr>\n",
       "    <tr>\n",
       "      <th>637</th>\n",
       "      <td>June</td>\n",
       "      <td>86</td>\n",
       "      <td>38</td>\n",
       "      <td>M</td>\n",
       "      <td>&lt;1000</td>\n",
       "      <td>3</td>\n",
       "      <td>Appliances</td>\n",
       "      <td>49</td>\n",
       "      <td>19</td>\n",
       "    </tr>\n",
       "    <tr>\n",
       "      <th>638</th>\n",
       "      <td>June</td>\n",
       "      <td>108</td>\n",
       "      <td>26</td>\n",
       "      <td>M</td>\n",
       "      <td>2500-3000</td>\n",
       "      <td>9</td>\n",
       "      <td>Furniture</td>\n",
       "      <td>476</td>\n",
       "      <td>2</td>\n",
       "    </tr>\n",
       "    <tr>\n",
       "      <th>639</th>\n",
       "      <td>June</td>\n",
       "      <td>79</td>\n",
       "      <td>37</td>\n",
       "      <td>F</td>\n",
       "      <td>&gt;3000</td>\n",
       "      <td>8</td>\n",
       "      <td>Beverages</td>\n",
       "      <td>396</td>\n",
       "      <td>18</td>\n",
       "    </tr>\n",
       "    <tr>\n",
       "      <th>640</th>\n",
       "      <td>June</td>\n",
       "      <td>109</td>\n",
       "      <td>34</td>\n",
       "      <td>F</td>\n",
       "      <td>&gt;3000</td>\n",
       "      <td>3</td>\n",
       "      <td>Appliances</td>\n",
       "      <td>245</td>\n",
       "      <td>24</td>\n",
       "    </tr>\n",
       "    <tr>\n",
       "      <th>641</th>\n",
       "      <td>June</td>\n",
       "      <td>95</td>\n",
       "      <td>27</td>\n",
       "      <td>F</td>\n",
       "      <td>2000-2500</td>\n",
       "      <td>2</td>\n",
       "      <td>Furniture</td>\n",
       "      <td>328</td>\n",
       "      <td>14</td>\n",
       "    </tr>\n",
       "  </tbody>\n",
       "</table>\n",
       "<p>642 rows × 9 columns</p>\n",
       "</div>"
      ],
      "text/plain": [
       "       Month  Customer ID  Age Gender Income Group  Family size  \\\n",
       "0    January           83   29      F    2000-2500            6   \n",
       "1    January           87   33      F    1000-1500            2   \n",
       "2    January           92   30      M        <1000            1   \n",
       "3    January           27   24      M    1500-2000            5   \n",
       "4    January           93   39      F    1000-1500           10   \n",
       "..       ...          ...  ...    ...          ...          ...   \n",
       "637     June           86   38      M        <1000            3   \n",
       "638     June          108   26      M    2500-3000            9   \n",
       "639     June           79   37      F        >3000            8   \n",
       "640     June          109   34      F        >3000            3   \n",
       "641     June           95   27      F    2000-2500            2   \n",
       "\n",
       "    Product category  Price  items  \n",
       "0          Household    593     10  \n",
       "1        Electronics     82     18  \n",
       "2            Kitchen    478     14  \n",
       "3          Beverages    442      1  \n",
       "4         Appliances    310      9  \n",
       "..               ...    ...    ...  \n",
       "637       Appliances     49     19  \n",
       "638        Furniture    476      2  \n",
       "639        Beverages    396     18  \n",
       "640       Appliances    245     24  \n",
       "641        Furniture    328     14  \n",
       "\n",
       "[642 rows x 9 columns]"
      ]
     },
     "execution_count": 14,
     "metadata": {},
     "output_type": "execute_result"
    }
   ],
   "source": [
    "df[\"Month\"]=df['Month'].dt.month_name()\n",
    "df"
   ]
  },
  {
   "cell_type": "code",
   "execution_count": 15,
   "id": "dda14ede",
   "metadata": {},
   "outputs": [
    {
     "data": {
      "text/html": [
       "<div>\n",
       "<style scoped>\n",
       "    .dataframe tbody tr th:only-of-type {\n",
       "        vertical-align: middle;\n",
       "    }\n",
       "\n",
       "    .dataframe tbody tr th {\n",
       "        vertical-align: top;\n",
       "    }\n",
       "\n",
       "    .dataframe thead th {\n",
       "        text-align: right;\n",
       "    }\n",
       "</style>\n",
       "<table border=\"1\" class=\"dataframe\">\n",
       "  <thead>\n",
       "    <tr style=\"text-align: right;\">\n",
       "      <th></th>\n",
       "      <th>Month</th>\n",
       "      <th>Customer ID</th>\n",
       "      <th>Age</th>\n",
       "      <th>Gender</th>\n",
       "      <th>Income Group</th>\n",
       "      <th>Family size</th>\n",
       "      <th>Product category</th>\n",
       "      <th>Price</th>\n",
       "      <th>items</th>\n",
       "    </tr>\n",
       "  </thead>\n",
       "  <tbody>\n",
       "    <tr>\n",
       "      <th>0</th>\n",
       "      <td>January</td>\n",
       "      <td>83</td>\n",
       "      <td>29</td>\n",
       "      <td>F</td>\n",
       "      <td>2000-2500</td>\n",
       "      <td>6</td>\n",
       "      <td>Household</td>\n",
       "      <td>593</td>\n",
       "      <td>10</td>\n",
       "    </tr>\n",
       "    <tr>\n",
       "      <th>10</th>\n",
       "      <td>January</td>\n",
       "      <td>128</td>\n",
       "      <td>30</td>\n",
       "      <td>F</td>\n",
       "      <td>&gt;3000</td>\n",
       "      <td>7</td>\n",
       "      <td>Household</td>\n",
       "      <td>223</td>\n",
       "      <td>21</td>\n",
       "    </tr>\n",
       "    <tr>\n",
       "      <th>11</th>\n",
       "      <td>January</td>\n",
       "      <td>13</td>\n",
       "      <td>26</td>\n",
       "      <td>M</td>\n",
       "      <td>&lt;1000</td>\n",
       "      <td>4</td>\n",
       "      <td>Household</td>\n",
       "      <td>71</td>\n",
       "      <td>7</td>\n",
       "    </tr>\n",
       "    <tr>\n",
       "      <th>12</th>\n",
       "      <td>January</td>\n",
       "      <td>26</td>\n",
       "      <td>24</td>\n",
       "      <td>F</td>\n",
       "      <td>1000-1500</td>\n",
       "      <td>9</td>\n",
       "      <td>Household</td>\n",
       "      <td>484</td>\n",
       "      <td>23</td>\n",
       "    </tr>\n",
       "    <tr>\n",
       "      <th>13</th>\n",
       "      <td>January</td>\n",
       "      <td>54</td>\n",
       "      <td>51</td>\n",
       "      <td>F</td>\n",
       "      <td>&gt;3000</td>\n",
       "      <td>3</td>\n",
       "      <td>Household</td>\n",
       "      <td>105</td>\n",
       "      <td>13</td>\n",
       "    </tr>\n",
       "    <tr>\n",
       "      <th>...</th>\n",
       "      <td>...</td>\n",
       "      <td>...</td>\n",
       "      <td>...</td>\n",
       "      <td>...</td>\n",
       "      <td>...</td>\n",
       "      <td>...</td>\n",
       "      <td>...</td>\n",
       "      <td>...</td>\n",
       "      <td>...</td>\n",
       "    </tr>\n",
       "    <tr>\n",
       "      <th>613</th>\n",
       "      <td>June</td>\n",
       "      <td>20</td>\n",
       "      <td>29</td>\n",
       "      <td>F</td>\n",
       "      <td>1000-1500</td>\n",
       "      <td>7</td>\n",
       "      <td>Household</td>\n",
       "      <td>325</td>\n",
       "      <td>3</td>\n",
       "    </tr>\n",
       "    <tr>\n",
       "      <th>614</th>\n",
       "      <td>June</td>\n",
       "      <td>127</td>\n",
       "      <td>50</td>\n",
       "      <td>M</td>\n",
       "      <td>2500-3000</td>\n",
       "      <td>3</td>\n",
       "      <td>Household</td>\n",
       "      <td>520</td>\n",
       "      <td>21</td>\n",
       "    </tr>\n",
       "    <tr>\n",
       "      <th>624</th>\n",
       "      <td>June</td>\n",
       "      <td>70</td>\n",
       "      <td>39</td>\n",
       "      <td>F</td>\n",
       "      <td>2000-2500</td>\n",
       "      <td>1</td>\n",
       "      <td>Household</td>\n",
       "      <td>457</td>\n",
       "      <td>24</td>\n",
       "    </tr>\n",
       "    <tr>\n",
       "      <th>630</th>\n",
       "      <td>June</td>\n",
       "      <td>106</td>\n",
       "      <td>35</td>\n",
       "      <td>M</td>\n",
       "      <td>1500-2000</td>\n",
       "      <td>5</td>\n",
       "      <td>Household</td>\n",
       "      <td>256</td>\n",
       "      <td>10</td>\n",
       "    </tr>\n",
       "    <tr>\n",
       "      <th>634</th>\n",
       "      <td>June</td>\n",
       "      <td>15</td>\n",
       "      <td>37</td>\n",
       "      <td>M</td>\n",
       "      <td>1500-2000</td>\n",
       "      <td>6</td>\n",
       "      <td>Household</td>\n",
       "      <td>675</td>\n",
       "      <td>14</td>\n",
       "    </tr>\n",
       "  </tbody>\n",
       "</table>\n",
       "<p>127 rows × 9 columns</p>\n",
       "</div>"
      ],
      "text/plain": [
       "       Month  Customer ID  Age Gender Income Group  Family size  \\\n",
       "0    January           83   29      F    2000-2500            6   \n",
       "10   January          128   30      F        >3000            7   \n",
       "11   January           13   26      M        <1000            4   \n",
       "12   January           26   24      F    1000-1500            9   \n",
       "13   January           54   51      F        >3000            3   \n",
       "..       ...          ...  ...    ...          ...          ...   \n",
       "613     June           20   29      F    1000-1500            7   \n",
       "614     June          127   50      M    2500-3000            3   \n",
       "624     June           70   39      F    2000-2500            1   \n",
       "630     June          106   35      M    1500-2000            5   \n",
       "634     June           15   37      M    1500-2000            6   \n",
       "\n",
       "    Product category  Price  items  \n",
       "0          Household    593     10  \n",
       "10         Household    223     21  \n",
       "11         Household     71      7  \n",
       "12         Household    484     23  \n",
       "13         Household    105     13  \n",
       "..               ...    ...    ...  \n",
       "613        Household    325      3  \n",
       "614        Household    520     21  \n",
       "624        Household    457     24  \n",
       "630        Household    256     10  \n",
       "634        Household    675     14  \n",
       "\n",
       "[127 rows x 9 columns]"
      ]
     },
     "execution_count": 15,
     "metadata": {},
     "output_type": "execute_result"
    }
   ],
   "source": [
    "df1=df[df[\"Product category\"]==\"Household\"]\n",
    "df1"
   ]
  },
  {
   "cell_type": "code",
   "execution_count": 16,
   "id": "e6fa3252",
   "metadata": {
    "scrolled": false
   },
   "outputs": [
    {
     "data": {
      "text/plain": [
       "Text(0.5, 1.0, 'Month wise sales distribution of Household products')"
      ]
     },
     "execution_count": 16,
     "metadata": {},
     "output_type": "execute_result"
    },
    {
     "data": {
      "image/png": "[encoded data removed]",
      "text/plain": [
       "<Figure size 1080x720 with 1 Axes>"
      ]
     },
     "metadata": {
      "needs_background": "light"
     },
     "output_type": "display_data"
    }
   ],
   "source": [
    "fig, ax = plt.subplots(figsize = (15,10))\n",
    "sns.barplot(x = \"Month\", y= \"Price\",data=df1)\n",
    "plt.title(\"Month wise sales distribution of Household products\",pad=20,fontsize=20) "
   ]
  },
  {
   "cell_type": "markdown",
   "id": "b9097624",
   "metadata": {},
   "source": [
    "Above bar graph gives the clear picture about the Month wise sales distribution of Household products.\n",
    "\n",
    "we can observe that,we have great sales of Household products either in May or in June and in July month we can observe the less sales."
   ]
  },
  {
   "cell_type": "markdown",
   "id": "ef4583cb",
   "metadata": {},
   "source": [
    "### Q5. What is the average price of an item in Electronics?"
   ]
  },
  {
   "cell_type": "code",
   "execution_count": 17,
   "id": "a7c049f3",
   "metadata": {},
   "outputs": [
    {
     "data": {
      "text/plain": [
       "357.2517985611511"
      ]
     },
     "execution_count": 17,
     "metadata": {},
     "output_type": "execute_result"
    }
   ],
   "source": [
    "df[df[\"Product category\"]==\"Electronics\"][\"Price\"].mean()"
   ]
  },
  {
   "cell_type": "markdown",
   "id": "1d50ee85",
   "metadata": {},
   "source": [
    " the average price of an item in Electronics is :- 357.2517985611511"
   ]
  },
  {
   "cell_type": "markdown",
   "id": "7cd3fd65",
   "metadata": {},
   "source": [
    "### Q6.Find difference between money spent per purchase by Male and Female?"
   ]
  },
  {
   "cell_type": "code",
   "execution_count": 18,
   "id": "c974def4",
   "metadata": {},
   "outputs": [
    {
     "data": {
      "text/html": [
       "<div>\n",
       "<style scoped>\n",
       "    .dataframe tbody tr th:only-of-type {\n",
       "        vertical-align: middle;\n",
       "    }\n",
       "\n",
       "    .dataframe tbody tr th {\n",
       "        vertical-align: top;\n",
       "    }\n",
       "\n",
       "    .dataframe thead th {\n",
       "        text-align: right;\n",
       "    }\n",
       "</style>\n",
       "<table border=\"1\" class=\"dataframe\">\n",
       "  <thead>\n",
       "    <tr style=\"text-align: right;\">\n",
       "      <th></th>\n",
       "      <th>Month</th>\n",
       "      <th>Customer ID</th>\n",
       "      <th>Age</th>\n",
       "      <th>Gender</th>\n",
       "      <th>Income Group</th>\n",
       "      <th>Family size</th>\n",
       "      <th>Product category</th>\n",
       "      <th>Price</th>\n",
       "      <th>items</th>\n",
       "    </tr>\n",
       "  </thead>\n",
       "  <tbody>\n",
       "    <tr>\n",
       "      <th>0</th>\n",
       "      <td>January</td>\n",
       "      <td>83</td>\n",
       "      <td>29</td>\n",
       "      <td>F</td>\n",
       "      <td>2000-2500</td>\n",
       "      <td>6</td>\n",
       "      <td>Household</td>\n",
       "      <td>593</td>\n",
       "      <td>10</td>\n",
       "    </tr>\n",
       "    <tr>\n",
       "      <th>1</th>\n",
       "      <td>January</td>\n",
       "      <td>87</td>\n",
       "      <td>33</td>\n",
       "      <td>F</td>\n",
       "      <td>1000-1500</td>\n",
       "      <td>2</td>\n",
       "      <td>Electronics</td>\n",
       "      <td>82</td>\n",
       "      <td>18</td>\n",
       "    </tr>\n",
       "    <tr>\n",
       "      <th>2</th>\n",
       "      <td>January</td>\n",
       "      <td>92</td>\n",
       "      <td>30</td>\n",
       "      <td>M</td>\n",
       "      <td>&lt;1000</td>\n",
       "      <td>1</td>\n",
       "      <td>Kitchen</td>\n",
       "      <td>478</td>\n",
       "      <td>14</td>\n",
       "    </tr>\n",
       "    <tr>\n",
       "      <th>3</th>\n",
       "      <td>January</td>\n",
       "      <td>27</td>\n",
       "      <td>24</td>\n",
       "      <td>M</td>\n",
       "      <td>1500-2000</td>\n",
       "      <td>5</td>\n",
       "      <td>Beverages</td>\n",
       "      <td>442</td>\n",
       "      <td>1</td>\n",
       "    </tr>\n",
       "    <tr>\n",
       "      <th>4</th>\n",
       "      <td>January</td>\n",
       "      <td>93</td>\n",
       "      <td>39</td>\n",
       "      <td>F</td>\n",
       "      <td>1000-1500</td>\n",
       "      <td>10</td>\n",
       "      <td>Appliances</td>\n",
       "      <td>310</td>\n",
       "      <td>9</td>\n",
       "    </tr>\n",
       "    <tr>\n",
       "      <th>...</th>\n",
       "      <td>...</td>\n",
       "      <td>...</td>\n",
       "      <td>...</td>\n",
       "      <td>...</td>\n",
       "      <td>...</td>\n",
       "      <td>...</td>\n",
       "      <td>...</td>\n",
       "      <td>...</td>\n",
       "      <td>...</td>\n",
       "    </tr>\n",
       "    <tr>\n",
       "      <th>637</th>\n",
       "      <td>June</td>\n",
       "      <td>86</td>\n",
       "      <td>38</td>\n",
       "      <td>M</td>\n",
       "      <td>&lt;1000</td>\n",
       "      <td>3</td>\n",
       "      <td>Appliances</td>\n",
       "      <td>49</td>\n",
       "      <td>19</td>\n",
       "    </tr>\n",
       "    <tr>\n",
       "      <th>638</th>\n",
       "      <td>June</td>\n",
       "      <td>108</td>\n",
       "      <td>26</td>\n",
       "      <td>M</td>\n",
       "      <td>2500-3000</td>\n",
       "      <td>9</td>\n",
       "      <td>Furniture</td>\n",
       "      <td>476</td>\n",
       "      <td>2</td>\n",
       "    </tr>\n",
       "    <tr>\n",
       "      <th>639</th>\n",
       "      <td>June</td>\n",
       "      <td>79</td>\n",
       "      <td>37</td>\n",
       "      <td>F</td>\n",
       "      <td>&gt;3000</td>\n",
       "      <td>8</td>\n",
       "      <td>Beverages</td>\n",
       "      <td>396</td>\n",
       "      <td>18</td>\n",
       "    </tr>\n",
       "    <tr>\n",
       "      <th>640</th>\n",
       "      <td>June</td>\n",
       "      <td>109</td>\n",
       "      <td>34</td>\n",
       "      <td>F</td>\n",
       "      <td>&gt;3000</td>\n",
       "      <td>3</td>\n",
       "      <td>Appliances</td>\n",
       "      <td>245</td>\n",
       "      <td>24</td>\n",
       "    </tr>\n",
       "    <tr>\n",
       "      <th>641</th>\n",
       "      <td>June</td>\n",
       "      <td>95</td>\n",
       "      <td>27</td>\n",
       "      <td>F</td>\n",
       "      <td>2000-2500</td>\n",
       "      <td>2</td>\n",
       "      <td>Furniture</td>\n",
       "      <td>328</td>\n",
       "      <td>14</td>\n",
       "    </tr>\n",
       "  </tbody>\n",
       "</table>\n",
       "<p>642 rows × 9 columns</p>\n",
       "</div>"
      ],
      "text/plain": [
       "       Month  Customer ID  Age Gender Income Group  Family size  \\\n",
       "0    January           83   29      F    2000-2500            6   \n",
       "1    January           87   33      F    1000-1500            2   \n",
       "2    January           92   30      M        <1000            1   \n",
       "3    January           27   24      M    1500-2000            5   \n",
       "4    January           93   39      F    1000-1500           10   \n",
       "..       ...          ...  ...    ...          ...          ...   \n",
       "637     June           86   38      M        <1000            3   \n",
       "638     June          108   26      M    2500-3000            9   \n",
       "639     June           79   37      F        >3000            8   \n",
       "640     June          109   34      F        >3000            3   \n",
       "641     June           95   27      F    2000-2500            2   \n",
       "\n",
       "    Product category  Price  items  \n",
       "0          Household    593     10  \n",
       "1        Electronics     82     18  \n",
       "2            Kitchen    478     14  \n",
       "3          Beverages    442      1  \n",
       "4         Appliances    310      9  \n",
       "..               ...    ...    ...  \n",
       "637       Appliances     49     19  \n",
       "638        Furniture    476      2  \n",
       "639        Beverages    396     18  \n",
       "640       Appliances    245     24  \n",
       "641        Furniture    328     14  \n",
       "\n",
       "[642 rows x 9 columns]"
      ]
     },
     "execution_count": 18,
     "metadata": {},
     "output_type": "execute_result"
    }
   ],
   "source": [
    "df"
   ]
  },
  {
   "cell_type": "code",
   "execution_count": 19,
   "id": "5dd0aa59",
   "metadata": {},
   "outputs": [
    {
     "data": {
      "text/html": [
       "<div>\n",
       "<style scoped>\n",
       "    .dataframe tbody tr th:only-of-type {\n",
       "        vertical-align: middle;\n",
       "    }\n",
       "\n",
       "    .dataframe tbody tr th {\n",
       "        vertical-align: top;\n",
       "    }\n",
       "\n",
       "    .dataframe thead th {\n",
       "        text-align: right;\n",
       "    }\n",
       "</style>\n",
       "<table border=\"1\" class=\"dataframe\">\n",
       "  <thead>\n",
       "    <tr style=\"text-align: right;\">\n",
       "      <th></th>\n",
       "      <th>Gender</th>\n",
       "      <th>Product category</th>\n",
       "      <th>Price</th>\n",
       "    </tr>\n",
       "  </thead>\n",
       "  <tbody>\n",
       "    <tr>\n",
       "      <th>0</th>\n",
       "      <td>F</td>\n",
       "      <td>Appliances</td>\n",
       "      <td>370.830508</td>\n",
       "    </tr>\n",
       "    <tr>\n",
       "      <th>1</th>\n",
       "      <td>F</td>\n",
       "      <td>Beverages</td>\n",
       "      <td>370.194444</td>\n",
       "    </tr>\n",
       "    <tr>\n",
       "      <th>2</th>\n",
       "      <td>F</td>\n",
       "      <td>Electronics</td>\n",
       "      <td>375.677966</td>\n",
       "    </tr>\n",
       "    <tr>\n",
       "      <th>3</th>\n",
       "      <td>F</td>\n",
       "      <td>Furniture</td>\n",
       "      <td>375.560976</td>\n",
       "    </tr>\n",
       "    <tr>\n",
       "      <th>4</th>\n",
       "      <td>F</td>\n",
       "      <td>Household</td>\n",
       "      <td>379.396552</td>\n",
       "    </tr>\n",
       "    <tr>\n",
       "      <th>5</th>\n",
       "      <td>F</td>\n",
       "      <td>Kitchen</td>\n",
       "      <td>355.385965</td>\n",
       "    </tr>\n",
       "    <tr>\n",
       "      <th>6</th>\n",
       "      <td>M</td>\n",
       "      <td>Appliances</td>\n",
       "      <td>366.179487</td>\n",
       "    </tr>\n",
       "    <tr>\n",
       "      <th>7</th>\n",
       "      <td>M</td>\n",
       "      <td>Beverages</td>\n",
       "      <td>377.800000</td>\n",
       "    </tr>\n",
       "    <tr>\n",
       "      <th>8</th>\n",
       "      <td>M</td>\n",
       "      <td>Electronics</td>\n",
       "      <td>343.662500</td>\n",
       "    </tr>\n",
       "    <tr>\n",
       "      <th>9</th>\n",
       "      <td>M</td>\n",
       "      <td>Furniture</td>\n",
       "      <td>380.807692</td>\n",
       "    </tr>\n",
       "    <tr>\n",
       "      <th>10</th>\n",
       "      <td>M</td>\n",
       "      <td>Household</td>\n",
       "      <td>337.927536</td>\n",
       "    </tr>\n",
       "    <tr>\n",
       "      <th>11</th>\n",
       "      <td>M</td>\n",
       "      <td>Kitchen</td>\n",
       "      <td>363.000000</td>\n",
       "    </tr>\n",
       "  </tbody>\n",
       "</table>\n",
       "</div>"
      ],
      "text/plain": [
       "   Gender Product category       Price\n",
       "0       F       Appliances  370.830508\n",
       "1       F        Beverages  370.194444\n",
       "2       F      Electronics  375.677966\n",
       "3       F        Furniture  375.560976\n",
       "4       F        Household  379.396552\n",
       "5       F          Kitchen  355.385965\n",
       "6       M       Appliances  366.179487\n",
       "7       M        Beverages  377.800000\n",
       "8       M      Electronics  343.662500\n",
       "9       M        Furniture  380.807692\n",
       "10      M        Household  337.927536\n",
       "11      M          Kitchen  363.000000"
      ]
     },
     "execution_count": 19,
     "metadata": {},
     "output_type": "execute_result"
    }
   ],
   "source": [
    "age_productWise_avgs = df.groupby(['Gender', 'Product category'])['Price'].mean()\n",
    "df_age_productWise_avgs = pd.DataFrame(age_productWise_avgs)\n",
    "df_age_productWise_avgs = df_age_productWise_avgs.reset_index(level = ['Gender','Product category'])\n",
    "df_age_productWise_avgs"
   ]
  },
  {
   "cell_type": "code",
   "execution_count": 26,
   "id": "ef834dc9",
   "metadata": {},
   "outputs": [
    {
     "data": {
      "text/plain": [
       "Text(0.5, 1.0, 'Difference between money spent per purchase by Male and Female')"
      ]
     },
     "execution_count": 26,
     "metadata": {},
     "output_type": "execute_result"
    },
    {
     "data": {
      "image/png": "[encoded data removed]",
      "text/plain": [
       "<Figure size 1080x720 with 1 Axes>"
      ]
     },
     "metadata": {
      "needs_background": "light"
     },
     "output_type": "display_data"
    }
   ],
   "source": [
    "plt.figure(figsize = (15,10))\n",
    "sns.barplot(x = \"Product category\", y= \"Price\", hue = \"Gender\", palette = \"YlGnBu\", data = df_age_productWise_avgs)\n",
    "plt.title(\"Difference between money spent per purchase by Male and Female\",pad=20,fontsize=20)"
   ]
  },
  {
   "cell_type": "markdown",
   "id": "3ad3a54e",
   "metadata": {},
   "source": [
    "There are different types of Products noted in \"Product Category\" variable.\n",
    "\n",
    "The above represented graph indicates that,how thw females and Males spending money on Product catrgories  \n",
    "\"Appliances\",\"Beverages\",\"Electronics\",\"Furniture\",\"Household\" and \"Kitchen\"\n",
    " "
   ]
  },
  {
   "cell_type": "code",
   "execution_count": null,
   "id": "fd7a9447",
   "metadata": {},
   "outputs": [],
   "source": []
  }
 ],
 "metadata": {
  "kernelspec": {
   "display_name": "Python 3 (ipykernel)",
   "language": "python",
   "name": "python3"
  },
  "language_info": {
   "codemirror_mode": {
    "name": "ipython",
    "version": 3
   },
   "file_extension": ".py",
   "mimetype": "text/x-python",
   "name": "python",
   "nbconvert_exporter": "python",
   "pygments_lexer": "ipython3",
   "version": "3.10.1"
  }
 },
 "nbformat": 4,
 "nbformat_minor": 5
}
